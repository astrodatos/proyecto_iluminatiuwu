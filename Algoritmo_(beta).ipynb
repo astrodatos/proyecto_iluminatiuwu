{
  "nbformat": 4,
  "nbformat_minor": 0,
  "metadata": {
    "colab": {
      "name": "Algoritmo (beta).ipynb",
      "version": "0.3.2",
      "provenance": [],
      "collapsed_sections": [],
      "include_colab_link": true
    },
    "kernelspec": {
      "name": "python3",
      "display_name": "Python 3"
    }
  },
  "cells": [
    {
      "cell_type": "markdown",
      "metadata": {
        "id": "view-in-github",
        "colab_type": "text"
      },
      "source": [
        "<a href=\"https://colab.research.google.com/github/astrodatos/proyecto_iluminatiuwu/blob/master/Algoritmo_(beta).ipynb\" target=\"_parent\"><img src=\"https://colab.research.google.com/assets/colab-badge.svg\" alt=\"Open In Colab\"/></a>"
      ]
    },
    {
      "cell_type": "code",
      "metadata": {
        "id": "FDKML9Ck_8Ve",
        "colab_type": "code",
        "outputId": "1e7510db-eb3b-4f30-b393-3bfc7ce33e0b",
        "colab": {
          "base_uri": "https://localhost:8080/",
          "height": 734
        }
      },
      "source": [
        "import numpy as np\n",
        "import matplotlib.pyplot as plt\n",
        "import pandas as pd\n",
        "import seaborn as sns\n",
        "\n",
        "from astropy import units as u\n",
        "from astropy.coordinates import SkyCoord\n",
        "from astropy.io import fits #importamos fits aunque no creemos que lo usaremos\n",
        "from astropy.wcs import WCS #importamos WCS aunque no creemos que lo usaremos\n",
        "!pip install astroquery #esto para instalar astroquery\n",
        "from astroquery.gaia import Gaia "
      ],
      "execution_count": 1,
      "outputs": [
        {
          "output_type": "stream",
          "text": [
            "Collecting astroquery\n",
            "\u001b[?25l  Downloading https://files.pythonhosted.org/packages/61/50/a7a08f9e54d7d9d97e69433cd88231e1ad2901811c9d1ae9ac7ccaef9396/astroquery-0.3.9.tar.gz (4.2MB)\n",
            "\u001b[K     |████████████████████████████████| 4.2MB 2.8MB/s \n",
            "\u001b[?25hRequirement already satisfied: astropy>=1.0 in /usr/local/lib/python3.6/dist-packages (from astroquery) (3.0.5)\n",
            "Requirement already satisfied: requests>=2.4.3 in /usr/local/lib/python3.6/dist-packages (from astroquery) (2.21.0)\n",
            "Collecting keyring>=4.0 (from astroquery)\n",
            "  Downloading https://files.pythonhosted.org/packages/6e/b3/b4d443d2e30c00cdb73612426222172182e54359545cfb17774792619e49/keyring-19.0.2-py2.py3-none-any.whl\n",
            "Requirement already satisfied: beautifulsoup4>=4.3.2 in /usr/local/lib/python3.6/dist-packages (from astroquery) (4.6.3)\n",
            "Requirement already satisfied: html5lib>=0.999 in /usr/local/lib/python3.6/dist-packages (from astroquery) (1.0.1)\n",
            "Requirement already satisfied: numpy>=1.10.0 in /usr/local/lib/python3.6/dist-packages (from astropy>=1.0->astroquery) (1.16.4)\n",
            "Requirement already satisfied: certifi>=2017.4.17 in /usr/local/lib/python3.6/dist-packages (from requests>=2.4.3->astroquery) (2019.3.9)\n",
            "Requirement already satisfied: idna<2.9,>=2.5 in /usr/local/lib/python3.6/dist-packages (from requests>=2.4.3->astroquery) (2.8)\n",
            "Requirement already satisfied: chardet<3.1.0,>=3.0.2 in /usr/local/lib/python3.6/dist-packages (from requests>=2.4.3->astroquery) (3.0.4)\n",
            "Requirement already satisfied: urllib3<1.25,>=1.21.1 in /usr/local/lib/python3.6/dist-packages (from requests>=2.4.3->astroquery) (1.24.3)\n",
            "Requirement already satisfied: entrypoints in /usr/local/lib/python3.6/dist-packages (from keyring>=4.0->astroquery) (0.3)\n",
            "Collecting secretstorage; sys_platform == \"linux\" (from keyring>=4.0->astroquery)\n",
            "  Downloading https://files.pythonhosted.org/packages/82/59/cb226752e20d83598d7fdcabd7819570b0329a61db07cfbdd21b2ef546e3/SecretStorage-3.1.1-py3-none-any.whl\n",
            "Requirement already satisfied: webencodings in /usr/local/lib/python3.6/dist-packages (from html5lib>=0.999->astroquery) (0.5.1)\n",
            "Requirement already satisfied: six>=1.9 in /usr/local/lib/python3.6/dist-packages (from html5lib>=0.999->astroquery) (1.12.0)\n",
            "Collecting cryptography (from secretstorage; sys_platform == \"linux\"->keyring>=4.0->astroquery)\n",
            "\u001b[?25l  Downloading https://files.pythonhosted.org/packages/97/18/c6557f63a6abde34707196fb2cad1c6dc0dbff25a200d5044922496668a4/cryptography-2.7-cp34-abi3-manylinux1_x86_64.whl (2.3MB)\n",
            "\u001b[K     |████████████████████████████████| 2.3MB 33.4MB/s \n",
            "\u001b[?25hCollecting jeepney (from secretstorage; sys_platform == \"linux\"->keyring>=4.0->astroquery)\n",
            "\u001b[?25l  Downloading https://files.pythonhosted.org/packages/2b/f7/ff23b9b59534f501d47c327576aadda59da5b83d76ff837e6075bc325b9f/jeepney-0.4-py3-none-any.whl (59kB)\n",
            "\u001b[K     |████████████████████████████████| 61kB 24.1MB/s \n",
            "\u001b[?25hRequirement already satisfied: cffi!=1.11.3,>=1.8 in /usr/local/lib/python3.6/dist-packages (from cryptography->secretstorage; sys_platform == \"linux\"->keyring>=4.0->astroquery) (1.12.3)\n",
            "Collecting asn1crypto>=0.21.0 (from cryptography->secretstorage; sys_platform == \"linux\"->keyring>=4.0->astroquery)\n",
            "\u001b[?25l  Downloading https://files.pythonhosted.org/packages/ea/cd/35485615f45f30a510576f1a56d1e0a7ad7bd8ab5ed7cdc600ef7cd06222/asn1crypto-0.24.0-py2.py3-none-any.whl (101kB)\n",
            "\u001b[K     |████████████████████████████████| 102kB 30.4MB/s \n",
            "\u001b[?25hRequirement already satisfied: pycparser in /usr/local/lib/python3.6/dist-packages (from cffi!=1.11.3,>=1.8->cryptography->secretstorage; sys_platform == \"linux\"->keyring>=4.0->astroquery) (2.19)\n",
            "Building wheels for collected packages: astroquery\n",
            "  Building wheel for astroquery (setup.py) ... \u001b[?25l\u001b[?25hdone\n",
            "  Stored in directory: /root/.cache/pip/wheels/8a/d1/1e/4124d9ef35e2bbfbaa284c97dd49d9babbab42d966c4bea190\n",
            "Successfully built astroquery\n",
            "Installing collected packages: asn1crypto, cryptography, jeepney, secretstorage, keyring, astroquery\n",
            "Successfully installed asn1crypto-0.24.0 astroquery-0.3.9 cryptography-2.7 jeepney-0.4 keyring-19.0.2 secretstorage-3.1.1\n",
            "Created TAP+ (v1.0.1) - Connection:\n",
            "\tHost: gea.esac.esa.int\n",
            "\tUse HTTPS: False\n",
            "\tPort: 80\n",
            "\tSSL Port: 443\n"
          ],
          "name": "stdout"
        }
      ]
    },
    {
      "cell_type": "code",
      "metadata": {
        "id": "bxhtn_Iri35I",
        "colab_type": "code",
        "outputId": "5c8a19f0-875d-426e-aa0e-589ff334b6fd",
        "colab": {
          "base_uri": "https://localhost:8080/",
          "height": 969
        }
      },
      "source": [
        "job = Gaia.launch_job_async(\"select top 1000000 \\\n",
        "solution_id,random_index,source_id,ra,dec,phot_g_mean_mag,phot_bp_mean_mag,phot_rp_mean_mag,bp_rp,bp_g,g_rp,teff_val,lum_val \\\n",
        "from gaiadr2.gaia_source order by random_index\") #obtenemos los datos de 1000000 estrellas con los anteriores atributos en un Asynchronous query\n",
        "\n",
        "print(job) \n",
        "r = job.get_results()\n",
        "print(r)"
      ],
      "execution_count": 2,
      "outputs": [
        {
          "output_type": "stream",
          "text": [
            "WARNING: W35: None:5:0: W35: 'value' attribute required for INFO elements [astropy.io.votable.tree]\n",
            "WARNING: W35: None:6:0: W35: 'value' attribute required for INFO elements [astropy.io.votable.tree]\n",
            "WARNING: W35: None:7:0: W35: 'value' attribute required for INFO elements [astropy.io.votable.tree]\n",
            "WARNING: W35: None:8:0: W35: 'value' attribute required for INFO elements [astropy.io.votable.tree]\n",
            "WARNING: W35: None:10:0: W35: 'value' attribute required for INFO elements [astropy.io.votable.tree]\n",
            "WARNING: W27: None:11:0: W27: COOSYS deprecated in VOTable 1.2 [astropy.io.votable.tree]\n",
            "WARNING: W06: None:38:0: W06: Invalid UCD 'phot.color': Unknown word 'phot.color' [astropy.io.votable.tree]\n",
            "WARNING: W06: None:41:0: W06: Invalid UCD 'phot.color': Unknown word 'phot.color' [astropy.io.votable.tree]\n",
            "WARNING: W06: None:44:0: W06: Invalid UCD 'phot.color': Unknown word 'phot.color' [astropy.io.votable.tree]\n"
          ],
          "name": "stderr"
        },
        {
          "output_type": "stream",
          "text": [
            "Query finished.\n",
            "<Table masked=True length=1000000>\n",
            "      name        dtype  unit format                            description                             n_bad \n",
            "---------------- ------- ---- ------ ------------------------------------------------------------------ ------\n",
            "     solution_id   int64                                                            Solution Identifier      0\n",
            "    random_index   int64                                            Random index used to select subsets      0\n",
            "       source_id   int64             Unique source identifier (unique within a particular Data Release)      0\n",
            "              ra float64  deg {!r:>}                                                    Right ascension      0\n",
            "             dec float64  deg {!r:>}                                                        Declination      0\n",
            " phot_g_mean_mag float32  mag {!r:>}                                              G-band mean magnitude      0\n",
            "phot_bp_mean_mag float32  mag {!r:>}                                       Integrated BP mean magnitude 183440\n",
            "phot_rp_mean_mag float32  mag {!r:>}                                       Integrated RP mean magnitude 182618\n",
            "           bp_rp float32  mag {!r:>}                                                     BP - RP colour 185028\n",
            "            bp_g float32  mag {!r:>}                                                      BP - G colour 183440\n",
            "            g_rp float32  mag {!r:>}                                                      G - RP colour 182618\n",
            "        teff_val float32    K {!r:>}                                      stellar effective temperature 904741\n",
            "         lum_val float32 Lsun {!r:>}                                                 stellar luminosity 954639\n",
            "Jobid: 1559744194426O\n",
            "Phase: COMPLETED\n",
            "Owner: None\n",
            "Output file: async_20190605141634.vot\n",
            "Results: None\n",
            "    solution_id     random_index      source_id      ... teff_val lum_val\n",
            "                                                     ...    K       Lsun \n",
            "------------------- ------------ ------------------- ... -------- -------\n",
            "1635721458409799680            0 4205572950572486656 ...       --      --\n",
            "1635721458409799680            1 4205565597589384320 ...       --      --\n",
            "1635721458409799680            2 4053206649305182080 ...       --      --\n",
            "1635721458409799680            3 4205568964799943680 ...       --      --\n",
            "1635721458409799680            4 4049398731303340416 ...       --      --\n",
            "1635721458409799680            5 4053206924184153472 ...       --      --\n",
            "1635721458409799680            6 2944217403015932032 ...       --      --\n",
            "1635721458409799680            7 4205572263340546688 ...       --      --\n",
            "1635721458409799680            8 5889059805439854848 ...  4368.46      --\n",
            "1635721458409799680            9 4049398765669294976 ...       --      --\n",
            "                ...          ...                 ... ...      ...     ...\n",
            "1635721458409799680       999990 6146840267846445184 ...  5027.37      --\n",
            "1635721458409799680       999991 5623667380944946816 ...       --      --\n",
            "1635721458409799680       999992  709496303442567040 ...       --      --\n",
            "1635721458409799680       999993  883843972471592448 ...       --      --\n",
            "1635721458409799680       999994 5928657514083373440 ...       --      --\n",
            "1635721458409799680       999995 3421574666884527872 ...       --      --\n",
            "1635721458409799680       999996 1823921913112529024 ...       --      --\n",
            "1635721458409799680       999997 5928626865183733888 ...       --      --\n",
            "1635721458409799680       999998 4266601412137068672 ...       --      --\n",
            "1635721458409799680       999999 4060931440020028928 ...       --      --\n",
            "Length = 1000000 rows\n"
          ],
          "name": "stdout"
        }
      ]
    },
    {
      "cell_type": "code",
      "metadata": {
        "id": "WOz8TkP8RBK1",
        "colab_type": "code",
        "outputId": "d79b6317-0a04-40cf-be64-3d0987546cb6",
        "colab": {
          "base_uri": "https://localhost:8080/",
          "height": 379
        }
      },
      "source": [
        "jobpd=r.to_pandas() #convertimos el job a pandas\n",
        "jobpd[:10] #vemos las primeras 10 filas para ver que todo está bien"
      ],
      "execution_count": 3,
      "outputs": [
        {
          "output_type": "execute_result",
          "data": {
            "text/html": [
              "<div>\n",
              "<style scoped>\n",
              "    .dataframe tbody tr th:only-of-type {\n",
              "        vertical-align: middle;\n",
              "    }\n",
              "\n",
              "    .dataframe tbody tr th {\n",
              "        vertical-align: top;\n",
              "    }\n",
              "\n",
              "    .dataframe thead th {\n",
              "        text-align: right;\n",
              "    }\n",
              "</style>\n",
              "<table border=\"1\" class=\"dataframe\">\n",
              "  <thead>\n",
              "    <tr style=\"text-align: right;\">\n",
              "      <th></th>\n",
              "      <th>solution_id</th>\n",
              "      <th>random_index</th>\n",
              "      <th>source_id</th>\n",
              "      <th>ra</th>\n",
              "      <th>dec</th>\n",
              "      <th>phot_g_mean_mag</th>\n",
              "      <th>phot_bp_mean_mag</th>\n",
              "      <th>phot_rp_mean_mag</th>\n",
              "      <th>bp_rp</th>\n",
              "      <th>bp_g</th>\n",
              "      <th>g_rp</th>\n",
              "      <th>teff_val</th>\n",
              "      <th>lum_val</th>\n",
              "    </tr>\n",
              "  </thead>\n",
              "  <tbody>\n",
              "    <tr>\n",
              "      <th>0</th>\n",
              "      <td>1635721458409799680</td>\n",
              "      <td>0</td>\n",
              "      <td>4205572950572486656</td>\n",
              "      <td>284.997397</td>\n",
              "      <td>-7.213794</td>\n",
              "      <td>18.246519</td>\n",
              "      <td>18.827530</td>\n",
              "      <td>17.534872</td>\n",
              "      <td>1.292658</td>\n",
              "      <td>0.581011</td>\n",
              "      <td>0.711647</td>\n",
              "      <td>NaN</td>\n",
              "      <td>NaN</td>\n",
              "    </tr>\n",
              "    <tr>\n",
              "      <th>1</th>\n",
              "      <td>1635721458409799680</td>\n",
              "      <td>1</td>\n",
              "      <td>4205565597589384320</td>\n",
              "      <td>285.403309</td>\n",
              "      <td>-7.148584</td>\n",
              "      <td>17.277395</td>\n",
              "      <td>17.743320</td>\n",
              "      <td>16.645607</td>\n",
              "      <td>1.097713</td>\n",
              "      <td>0.465925</td>\n",
              "      <td>0.631788</td>\n",
              "      <td>NaN</td>\n",
              "      <td>NaN</td>\n",
              "    </tr>\n",
              "    <tr>\n",
              "      <th>2</th>\n",
              "      <td>1635721458409799680</td>\n",
              "      <td>2</td>\n",
              "      <td>4053206649305182080</td>\n",
              "      <td>275.626769</td>\n",
              "      <td>-25.133812</td>\n",
              "      <td>19.644129</td>\n",
              "      <td>NaN</td>\n",
              "      <td>NaN</td>\n",
              "      <td>NaN</td>\n",
              "      <td>NaN</td>\n",
              "      <td>NaN</td>\n",
              "      <td>NaN</td>\n",
              "      <td>NaN</td>\n",
              "    </tr>\n",
              "    <tr>\n",
              "      <th>3</th>\n",
              "      <td>1635721458409799680</td>\n",
              "      <td>3</td>\n",
              "      <td>4205568964799943680</td>\n",
              "      <td>285.346380</td>\n",
              "      <td>-7.110390</td>\n",
              "      <td>20.402403</td>\n",
              "      <td>20.705967</td>\n",
              "      <td>19.725151</td>\n",
              "      <td>0.980816</td>\n",
              "      <td>0.303564</td>\n",
              "      <td>0.677252</td>\n",
              "      <td>NaN</td>\n",
              "      <td>NaN</td>\n",
              "    </tr>\n",
              "    <tr>\n",
              "      <th>4</th>\n",
              "      <td>1635721458409799680</td>\n",
              "      <td>4</td>\n",
              "      <td>4049398731303340416</td>\n",
              "      <td>274.009409</td>\n",
              "      <td>-30.525125</td>\n",
              "      <td>19.241173</td>\n",
              "      <td>19.158228</td>\n",
              "      <td>18.095499</td>\n",
              "      <td>1.062729</td>\n",
              "      <td>-0.082945</td>\n",
              "      <td>1.145674</td>\n",
              "      <td>NaN</td>\n",
              "      <td>NaN</td>\n",
              "    </tr>\n",
              "    <tr>\n",
              "      <th>5</th>\n",
              "      <td>1635721458409799680</td>\n",
              "      <td>5</td>\n",
              "      <td>4053206924184153472</td>\n",
              "      <td>275.737952</td>\n",
              "      <td>-25.143911</td>\n",
              "      <td>19.238544</td>\n",
              "      <td>19.359943</td>\n",
              "      <td>17.496092</td>\n",
              "      <td>1.863852</td>\n",
              "      <td>0.121399</td>\n",
              "      <td>1.742453</td>\n",
              "      <td>NaN</td>\n",
              "      <td>NaN</td>\n",
              "    </tr>\n",
              "    <tr>\n",
              "      <th>6</th>\n",
              "      <td>1635721458409799680</td>\n",
              "      <td>6</td>\n",
              "      <td>2944217403015932032</td>\n",
              "      <td>96.875156</td>\n",
              "      <td>-15.996720</td>\n",
              "      <td>21.065298</td>\n",
              "      <td>NaN</td>\n",
              "      <td>NaN</td>\n",
              "      <td>NaN</td>\n",
              "      <td>NaN</td>\n",
              "      <td>NaN</td>\n",
              "      <td>NaN</td>\n",
              "      <td>NaN</td>\n",
              "    </tr>\n",
              "    <tr>\n",
              "      <th>7</th>\n",
              "      <td>1635721458409799680</td>\n",
              "      <td>7</td>\n",
              "      <td>4205572263340546688</td>\n",
              "      <td>284.957509</td>\n",
              "      <td>-7.214939</td>\n",
              "      <td>20.697376</td>\n",
              "      <td>NaN</td>\n",
              "      <td>NaN</td>\n",
              "      <td>NaN</td>\n",
              "      <td>NaN</td>\n",
              "      <td>NaN</td>\n",
              "      <td>NaN</td>\n",
              "      <td>NaN</td>\n",
              "    </tr>\n",
              "    <tr>\n",
              "      <th>8</th>\n",
              "      <td>1635721458409799680</td>\n",
              "      <td>8</td>\n",
              "      <td>5889059805439854848</td>\n",
              "      <td>234.271140</td>\n",
              "      <td>-52.218658</td>\n",
              "      <td>16.638042</td>\n",
              "      <td>17.331743</td>\n",
              "      <td>15.816595</td>\n",
              "      <td>1.515148</td>\n",
              "      <td>0.693701</td>\n",
              "      <td>0.821447</td>\n",
              "      <td>4368.459961</td>\n",
              "      <td>NaN</td>\n",
              "    </tr>\n",
              "    <tr>\n",
              "      <th>9</th>\n",
              "      <td>1635721458409799680</td>\n",
              "      <td>9</td>\n",
              "      <td>4049398765669294976</td>\n",
              "      <td>274.018619</td>\n",
              "      <td>-30.513203</td>\n",
              "      <td>19.936489</td>\n",
              "      <td>NaN</td>\n",
              "      <td>NaN</td>\n",
              "      <td>NaN</td>\n",
              "      <td>NaN</td>\n",
              "      <td>NaN</td>\n",
              "      <td>NaN</td>\n",
              "      <td>NaN</td>\n",
              "    </tr>\n",
              "  </tbody>\n",
              "</table>\n",
              "</div>"
            ],
            "text/plain": [
              "           solution_id  random_index  ...     teff_val  lum_val\n",
              "0  1635721458409799680             0  ...          NaN      NaN\n",
              "1  1635721458409799680             1  ...          NaN      NaN\n",
              "2  1635721458409799680             2  ...          NaN      NaN\n",
              "3  1635721458409799680             3  ...          NaN      NaN\n",
              "4  1635721458409799680             4  ...          NaN      NaN\n",
              "5  1635721458409799680             5  ...          NaN      NaN\n",
              "6  1635721458409799680             6  ...          NaN      NaN\n",
              "7  1635721458409799680             7  ...          NaN      NaN\n",
              "8  1635721458409799680             8  ...  4368.459961      NaN\n",
              "9  1635721458409799680             9  ...          NaN      NaN\n",
              "\n",
              "[10 rows x 13 columns]"
            ]
          },
          "metadata": {
            "tags": []
          },
          "execution_count": 3
        }
      ]
    },
    {
      "cell_type": "code",
      "metadata": {
        "id": "w2GelMEoX2RH",
        "colab_type": "code",
        "outputId": "41972c8e-09af-4093-b647-2be3f05055e9",
        "colab": {
          "base_uri": "https://localhost:8080/",
          "height": 34
        }
      },
      "source": [
        "pd.Series.count(jobpd.iloc[:,11]) #con esto obtenemos el número de estrellas que poseen info de teff_val"
      ],
      "execution_count": 18,
      "outputs": [
        {
          "output_type": "execute_result",
          "data": {
            "text/plain": [
              "95259"
            ]
          },
          "metadata": {
            "tags": []
          },
          "execution_count": 18
        }
      ]
    },
    {
      "cell_type": "code",
      "metadata": {
        "id": "X42YoCHINdct",
        "colab_type": "code",
        "colab": {}
      },
      "source": [
        "data={'random_index':jobpd.iloc[:,1],'class':np.zeros(1000000)}\n",
        "wea=pd.DataFrame(data,columns=['random_index','class'])"
      ],
      "execution_count": 0,
      "outputs": []
    },
    {
      "cell_type": "code",
      "metadata": {
        "id": "uimVTzjpA9cY",
        "colab_type": "code",
        "colab": {}
      },
      "source": [
        "mergeado=pd.merge(jobpd,wea,how='left',on='random_index')\n",
        "for i in mergeado.iloc[:,1]:\n",
        "  if mergeado.iloc[i,11]<=33000:\n",
        "    mergeado.iloc[i,13]='O'\n",
        "  if mergeado.iloc[i,11]>=10000 and mergeado.iloc[i,11]<30000:\n",
        "    mergeado.iloc[i,13]='B'\n",
        "  if mergeado.iloc[i,11]>=7500 and mergeado.iloc[i,11]<10000:\n",
        "    mergeado.iloc[i,13]='A'\n",
        "  if mergeado.iloc[i,11]>=6000 and mergeado.iloc[i,11]<7500:\n",
        "    mergeado.iloc[:,13]='F'\n",
        "  if mergeado.iloc[i,11]>=5200 and mergeado.iloc[i,11]<6000:\n",
        "    mergeado.iloc[i,13]='G'\n",
        "  if mergeado.iloc[i,11]>=3700 and mergeado.iloc[i,11]<5200:\n",
        "    mergeado.iloc[i,13]='K'\n",
        "  if mergeado.iloc[i,11]<=3700:\n",
        "    mergeado.iloc[i,13]='M'\n",
        "mergeado "
      ],
      "execution_count": 0,
      "outputs": []
    },
    {
      "cell_type": "code",
      "metadata": {
        "id": "M8n0W86me9Jn",
        "colab_type": "code",
        "colab": {}
      },
      "source": [
        "from sklearn.neural_network import MLPClassifier #por ahora usaremos estos algoritmos, pero desconocemos más o menos como procesar los datos,\n",
        "from sklearn.ensemble import RandomForestClassifier  \n",
        "#regresion logistica y sbmm"
      ],
      "execution_count": 0,
      "outputs": []
    }
  ]
}